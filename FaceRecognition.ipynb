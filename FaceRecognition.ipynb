{
  "cells": [
    {
      "cell_type": "markdown",
      "source": [
        "# **Face Recognition**\n",
        "\n",
        "\n",
        "---\n",
        "\n",
        "### Youssef Hassan (6259)\n",
        "###Nour El-Din Hazem (6261)\n",
        "\n",
        "\n",
        "---"
      ],
      "metadata": {
        "id": "XB-IoBiVK35y"
      }
    },
    {
      "cell_type": "markdown",
      "source": [
        "[link to the project](https://colab.research.google.com/drive/1iD1hnBZ1CspFNo3nqX3ma7-2WRHAsJ6t?usp=sharing)"
      ],
      "metadata": {
        "id": "Qa4AOeQ806DS"
      }
    },
    {
      "cell_type": "markdown",
      "source": [
        "Connecting to the drive to load dataset\n",
        "\n",
        "---\n",
        "\n"
      ],
      "metadata": {
        "id": "jTknL6zkLlJn"
      }
    },
    {
      "cell_type": "code",
      "execution_count": null,
      "metadata": {
        "colab": {
          "base_uri": "https://localhost:8080/"
        },
        "id": "R1nwWLSprAuE",
        "outputId": "c4d82517-f910-45ce-a00a-1f9047e7da9b"
      },
      "outputs": [
        {
          "output_type": "stream",
          "name": "stdout",
          "text": [
            "Drive already mounted at /content/gdrive; to attempt to forcibly remount, call drive.mount(\"/content/gdrive\", force_remount=True).\n"
          ]
        }
      ],
      "source": [
        "from google.colab import drive  \n",
        "drive.mount('/content/gdrive')"
      ]
    },
    {
      "cell_type": "markdown",
      "source": [
        "Generating the Data Matrix and the Label vector\n",
        "\n",
        "---\n",
        "\n"
      ],
      "metadata": {
        "id": "-AvmwVw7MTka"
      }
    },
    {
      "cell_type": "code",
      "execution_count": null,
      "metadata": {
        "id": "opZclwsNp2m0"
      },
      "outputs": [],
      "source": [
        "import numpy as np\n",
        "import cv2\n",
        "\n",
        "labels = []\n",
        "data = []\n",
        "for i in range(1, 41):  # accessing folders of directory\n",
        "        for k in range(1, 11):  # accessing photos in each folder\n",
        "            img = cv2.imread('/content/gdrive/MyDrive/Dataset'+'/s'+str(i)+\"/\"+str(k)+'.pgm', 0)\n",
        "           # height1, width1 = img.shape[:2]\n",
        "            img_col = np.array(img, dtype='float64').flatten()  # converting image to 1 dimentional image\n",
        "            subject = int(i)\n",
        "            data.append(img_col)\n",
        "            labels.append(subject)\n",
        "\n",
        "data = np.array(data)"
      ]
    },
    {
      "cell_type": "markdown",
      "source": [
        "# **PCA** \n",
        "\n",
        "---\n",
        "\n",
        "\n",
        "\n",
        "---\n",
        "\n"
      ],
      "metadata": {
        "id": "wh3kQtDqRG-H"
      }
    },
    {
      "cell_type": "markdown",
      "source": [
        "Function to Split the Dataset into Training and Test sets (odd for training & even for testing)\n",
        "\n",
        "---\n",
        "\n"
      ],
      "metadata": {
        "id": "ALdKlMk3MlLd"
      }
    },
    {
      "cell_type": "code",
      "execution_count": null,
      "metadata": {
        "id": "4RqZ0U7ztMqK"
      },
      "outputs": [],
      "source": [
        "def split(data,x,step):\n",
        "  train = data[1::step]  \n",
        "  train_labels = x[1::step]\n",
        "  test = data[::step]  \n",
        "  test_labels = x[::step]\n",
        "  test = np.array(test)\n",
        "  train = np.array(train)\n",
        "  test_labels=np.array(test_labels)\n",
        "  train_labels=np.array(train_labels)\n",
        "  return train,train_labels,test,test_labels"
      ]
    },
    {
      "cell_type": "markdown",
      "source": [
        "Function to calculate the covariance\n",
        "\n",
        "---\n",
        "\n"
      ],
      "metadata": {
        "id": "lK6UYenqNaXl"
      }
    },
    {
      "cell_type": "code",
      "execution_count": null,
      "metadata": {
        "id": "_40SGl5OfQz9"
      },
      "outputs": [],
      "source": [
        "def cov(train):\n",
        "  mean = train.mean(axis=0)\n",
        "  mean = np.array(mean)\n",
        "  centered_data = train - mean.transpose()\n",
        "  centered_data = np.array(centered_data)\n",
        "  covariance = (np.dot(centered_data.transpose(), centered_data)) / train.shape[0]\n",
        "  return covariance"
      ]
    },
    {
      "cell_type": "markdown",
      "source": [
        "Calculating the eigen values & eigen vectors in the PCA method \n",
        "\n",
        "---\n",
        "\n"
      ],
      "metadata": {
        "id": "su_iMyo0NhVU"
      }
    },
    {
      "cell_type": "code",
      "execution_count": null,
      "metadata": {
        "id": "ttQTExb2tW1J"
      },
      "outputs": [],
      "source": [
        "train,train_labels,test,test_labels=split(data,labels,2)\n",
        "covariance=cov(train)\n",
        "eigen_value, eigen_vector = np.linalg.eigh(covariance)\n"
      ]
    },
    {
      "cell_type": "markdown",
      "source": [
        "Function to calculate the explained variance\n",
        "\n",
        "---\n",
        "\n"
      ],
      "metadata": {
        "id": "wFw2A0UdNyKX"
      }
    },
    {
      "cell_type": "code",
      "execution_count": null,
      "metadata": {
        "id": "kXXkqhSI7dtk"
      },
      "outputs": [],
      "source": [
        "def exp_var(eigen_values):\n",
        "  total_varriance=np.sum(eigen_values)\n",
        "  alpha = [0.8, 0.85, 0.9, 0.95]\n",
        "  explained_variance=[]\n",
        "  for j in range(len(alpha)):\n",
        "      temp = 0\n",
        "      R = []\n",
        "      for i in range(1, eigen_values.shape[0]+1):\n",
        "          temp += eigen_values[-i] / total_varriance\n",
        "          R.append(temp)\n",
        "          if temp >= alpha[j]:\n",
        "              break\n",
        "      explained_variance.append(i)\n",
        "  return explained_variance"
      ]
    },
    {
      "cell_type": "markdown",
      "source": [
        "Calculating the explained variance and printing them\n",
        "\n",
        "---\n",
        "\n"
      ],
      "metadata": {
        "id": "7xL3RXSZN7F6"
      }
    },
    {
      "cell_type": "code",
      "execution_count": null,
      "metadata": {
        "colab": {
          "base_uri": "https://localhost:8080/"
        },
        "id": "T1_GmcjJ8v98",
        "outputId": "f4794a53-16a4-4596-a6fe-aa5bb3e41fba"
      },
      "outputs": [
        {
          "output_type": "stream",
          "name": "stdout",
          "text": [
            "[37, 53, 77, 116]\n"
          ]
        }
      ],
      "source": [
        "explained_variance=exp_var(eigen_value)\n",
        "print(explained_variance)"
      ]
    },
    {
      "cell_type": "markdown",
      "source": [
        "Function to calculate the reduced basis\n",
        "\n",
        "---\n",
        "\n"
      ],
      "metadata": {
        "id": "uxXgycp_ODk5"
      }
    },
    {
      "cell_type": "code",
      "execution_count": null,
      "metadata": {
        "id": "2JXQD7PEhh6Y"
      },
      "outputs": [],
      "source": [
        "def reduced_basis(eigen_vector,explained_variance,k):\n",
        "  temp_alpha=[]\n",
        "  for i in range (1,explained_variance[k]+1):\n",
        "      temp_alpha.append(eigen_vector[:,-i])\n",
        "  temp_alpha=np.array(temp_alpha)\n",
        "  return temp_alpha"
      ]
    },
    {
      "cell_type": "markdown",
      "source": [
        "Calculating the reduced basis (Projection Matrix) for every given alpha\n",
        "\n",
        "---\n",
        "\n"
      ],
      "metadata": {
        "id": "jXwu3ERpOXk1"
      }
    },
    {
      "cell_type": "code",
      "execution_count": null,
      "metadata": {
        "id": "7vSmchw_ist2"
      },
      "outputs": [],
      "source": [
        "alpha1=reduced_basis(eigen_vector,explained_variance,0)\n",
        "alpha2=reduced_basis(eigen_vector,explained_variance,1)\n",
        "alpha3=reduced_basis(eigen_vector,explained_variance,2)\n",
        "alpha4=reduced_basis(eigen_vector,explained_variance,3)"
      ]
    },
    {
      "cell_type": "markdown",
      "source": [
        "Projecting all the training sets using the projection matrix\n",
        "\n",
        "---\n",
        "\n"
      ],
      "metadata": {
        "id": "naABE1h9OlLL"
      }
    },
    {
      "cell_type": "code",
      "execution_count": null,
      "metadata": {
        "id": "GKZtlP_zSAIm"
      },
      "outputs": [],
      "source": [
        "reduced_train1=np.matmul(train,alpha1.transpose())\n",
        "reduced_train2=np.matmul(train,alpha2.transpose())\n",
        "reduced_train3=np.matmul(train,alpha3.transpose())\n",
        "reduced_train4=np.matmul(train,alpha4.transpose())"
      ]
    },
    {
      "cell_type": "markdown",
      "source": [
        "Projecting all the test sets using the projection matrix\n",
        "\n",
        "---"
      ],
      "metadata": {
        "id": "uyBvoZh_POFR"
      }
    },
    {
      "cell_type": "code",
      "execution_count": null,
      "metadata": {
        "id": "lh3IiZYRS_Pt"
      },
      "outputs": [],
      "source": [
        "reduced_test1=np.matmul(test,alpha1.transpose())\n",
        "reduced_test2=np.matmul(test,alpha2.transpose())\n",
        "reduced_test3=np.matmul(test,alpha3.transpose())\n",
        "reduced_test4=np.matmul(test,alpha4.transpose())"
      ]
    },
    {
      "cell_type": "markdown",
      "source": [
        "Function to calculate the accuracy of given dataset using K-NN classifier by setting number of neighbors to 1,3,5,7 \n",
        "\n",
        "---\n",
        "\n"
      ],
      "metadata": {
        "id": "Vzcu_94ePRqv"
      }
    },
    {
      "cell_type": "code",
      "execution_count": null,
      "metadata": {
        "id": "oP3Gjo95kXk6"
      },
      "outputs": [],
      "source": [
        "from sklearn.neighbors import KNeighborsClassifier\n",
        "def accuracy_calc(reduced_train,reduced_test,train_labels,test_labels):\n",
        "  neighbors = [1,3,5,7]\n",
        "  accuracy=[]\n",
        "  for i in range(len(neighbors)):\n",
        "    knn=KNeighborsClassifier(n_neighbors=neighbors[i])\n",
        "    knn.fit(reduced_train,train_labels)\n",
        "    label_pred=knn.predict(reduced_test)\n",
        "    accuracy.append(np.mean(label_pred == test_labels)*100)\n",
        "  return accuracy"
      ]
    },
    {
      "cell_type": "markdown",
      "source": [
        "Calculating the accuracy of the 4 datasets\n",
        "\n",
        "---\n",
        "\n"
      ],
      "metadata": {
        "id": "Vc_22tqiQCuT"
      }
    },
    {
      "cell_type": "code",
      "execution_count": null,
      "metadata": {
        "id": "HBMxlNFElBmY"
      },
      "outputs": [],
      "source": [
        "acc_alpha1=accuracy_calc(reduced_train1,reduced_test1,train_labels,test_labels)\n",
        "acc_alpha2=accuracy_calc(reduced_train2,reduced_test2,train_labels,test_labels)\n",
        "acc_alpha3=accuracy_calc(reduced_train3,reduced_test3,train_labels,test_labels)\n",
        "acc_alpha4=accuracy_calc(reduced_train4,reduced_test4,train_labels,test_labels)"
      ]
    },
    {
      "cell_type": "markdown",
      "source": [
        "Printing the accuracy of all the datasets, every dataset accuracy is calculated in an array\n",
        "\n",
        "---\n",
        "\n"
      ],
      "metadata": {
        "id": "sXiVyaXGQHiS"
      }
    },
    {
      "cell_type": "code",
      "execution_count": null,
      "metadata": {
        "id": "wqIQNXmhloeu",
        "colab": {
          "base_uri": "https://localhost:8080/"
        },
        "outputId": "a3eaad6d-01f2-4857-a2b0-1865c8a7791f"
      },
      "outputs": [
        {
          "output_type": "stream",
          "name": "stdout",
          "text": [
            "[93.0, 85.5, 80.5, 78.0]\n",
            "[94.0, 85.5, 83.0, 77.5]\n",
            "[94.5, 85.0, 81.5, 75.5]\n",
            "[93.5, 84.5, 81.5, 74.0]\n"
          ]
        }
      ],
      "source": [
        "print(acc_alpha1)\n",
        "print(acc_alpha2)\n",
        "print(acc_alpha3)\n",
        "print(acc_alpha4)"
      ]
    },
    {
      "cell_type": "markdown",
      "source": [
        "Function to plot the relation between K value and accuracy rate (for the 4 alpha) \n",
        "\n",
        "---\n"
      ],
      "metadata": {
        "id": "fBaDMTVOQgFb"
      }
    },
    {
      "cell_type": "code",
      "execution_count": null,
      "metadata": {
        "id": "UYB8Z3PKkaVm"
      },
      "outputs": [],
      "source": [
        "import matplotlib.pyplot as plt\n",
        "def graph(list1,list2,list3,list4):\n",
        "  neighbors = [1,3,5,7]\n",
        "  plt.figure(figsize=(12, 6))\n",
        "  plt.plot(neighbors, list1, color='red', linestyle='dashed', marker='o',\n",
        "         markerfacecolor='red', markersize=10)\n",
        "  plt.plot(neighbors,list2, color='blue', linestyle='dashed', marker='^',\n",
        "         markerfacecolor='blue', markersize=10)\n",
        "  plt.plot(neighbors,list3, color='green', linestyle='dashed', marker='x',\n",
        "         markerfacecolor='green', markersize=10)\n",
        "  plt.plot(neighbors,list4, color='black', linestyle='dashed', marker='*',\n",
        "         markerfacecolor='black', markersize=10)\n",
        "  plt.legend([\"alpha=0.8\", \"alpha=0.85\",\"alpha=0.9\",\"alpha=0.95\"], loc =\"upper right\")\n",
        "  plt.title('Accuracy Rate-K Value')\n",
        "  plt.xlabel('K Value')\n",
        "  plt.ylabel('Accuracy')"
      ]
    },
    {
      "cell_type": "markdown",
      "source": [
        "Plotting the results\n",
        "\n",
        "---\n",
        "\n"
      ],
      "metadata": {
        "id": "keLWq_FaQ-DW"
      }
    },
    {
      "cell_type": "code",
      "source": [
        "graph(acc_alpha1,acc_alpha2,acc_alpha3,acc_alpha4)"
      ],
      "metadata": {
        "id": "rlHmXDMQpb4t"
      },
      "execution_count": null,
      "outputs": []
    },
    {
      "cell_type": "markdown",
      "source": [
        "![1.png](data:image/png;base64,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)"
      ],
      "metadata": {
        "id": "MIY5W27hZCld"
      }
    },
    {
      "cell_type": "markdown",
      "source": [
        "# **LDA**\n",
        "\n",
        "---\n",
        "\n",
        "\n",
        "\n",
        "---\n",
        "\n"
      ],
      "metadata": {
        "id": "eD1mjhbqTp8z"
      }
    },
    {
      "cell_type": "markdown",
      "source": [
        "Function to calculate the mean of every class and the overall mean \n",
        "\n",
        "---\n",
        "\n"
      ],
      "metadata": {
        "id": "TnmFcBtQUoqN"
      }
    },
    {
      "cell_type": "code",
      "source": [
        "def calc_mean(train,number):\n",
        "  mean = []\n",
        "  for i in range (1,number+1):\n",
        "    temp = []\n",
        "    for j in range (((i-1)*5),(i*5)):\n",
        "      temp.append(train[j])\n",
        "    temp=np.array(temp)\n",
        "    meanVector=temp.mean(axis=0)\n",
        "    meanVector=np.array(meanVector)\n",
        "    mean.append(meanVector)\n",
        "  mean=np.array(mean)\n",
        "  temp=np.array(temp)\n",
        "  overall_mean=mean.mean(axis=0)\n",
        "  overall_mean=np.array(overall_mean)\n",
        "  return mean,overall_mean"
      ],
      "metadata": {
        "id": "zBuaVeZDT15K"
      },
      "execution_count": null,
      "outputs": []
    },
    {
      "cell_type": "markdown",
      "source": [
        "Calculating the mean of every class and overall mean and printing their shape\n",
        "\n",
        "---\n",
        "\n"
      ],
      "metadata": {
        "id": "C5kIaaDNVLRP"
      }
    },
    {
      "cell_type": "code",
      "source": [
        "mean,overall_mean=calc_mean(train,40)\n",
        "print(mean.shape)\n",
        "print(overall_mean.shape)"
      ],
      "metadata": {
        "colab": {
          "base_uri": "https://localhost:8080/"
        },
        "id": "oH-tbi5qU2co",
        "outputId": "af28db36-a7a5-4960-dbca-58e68f6b7e0d"
      },
      "execution_count": null,
      "outputs": [
        {
          "output_type": "stream",
          "name": "stdout",
          "text": [
            "(40, 10304)\n",
            "(10304,)\n"
          ]
        }
      ]
    },
    {
      "cell_type": "markdown",
      "source": [
        "Function to calculate the between class scatter matrix\n",
        "\n",
        "---\n",
        "\n"
      ],
      "metadata": {
        "id": "7zdWbQkxW4AU"
      }
    },
    {
      "cell_type": "code",
      "source": [
        "def calc_between_class(mean,overall_mean,n,number):\n",
        "  sum=[]\n",
        "  temp=mean[0]-overall_mean\n",
        "  temp=temp.reshape(-1,1)\n",
        "  sum=np.dot(temp,temp.transpose())\n",
        "\n",
        "  for i in range(1,number):\n",
        "    temp=mean[i]-overall_mean\n",
        "    temp=temp.reshape(-1,1)\n",
        "    sum=sum+(np.dot(temp,temp.transpose()))\n",
        "  sum=np.array(sum*n)\n",
        "  return sum"
      ],
      "metadata": {
        "id": "kFdXHYDRVrkQ"
      },
      "execution_count": null,
      "outputs": []
    },
    {
      "cell_type": "markdown",
      "source": [
        "Calculating the Sb and printing its shape\n",
        "\n",
        "---\n",
        "\n"
      ],
      "metadata": {
        "id": "byGzczuCXIQE"
      }
    },
    {
      "cell_type": "code",
      "source": [
        "S_b=calc_between_class(mean,overall_mean,5,40)\n",
        "print (S_b.shape)"
      ],
      "metadata": {
        "colab": {
          "base_uri": "https://localhost:8080/"
        },
        "id": "CanURUUIWbwe",
        "outputId": "f29b254b-f8df-46c7-fb7e-831bc13abfd7"
      },
      "execution_count": null,
      "outputs": [
        {
          "output_type": "stream",
          "name": "stdout",
          "text": [
            "(10304, 10304)\n"
          ]
        }
      ]
    },
    {
      "cell_type": "markdown",
      "source": [
        "Function to calculate the S (within class scatter matrix)\n",
        "\n",
        "---\n",
        "\n"
      ],
      "metadata": {
        "id": "cVATkbhcbMaJ"
      }
    },
    {
      "cell_type": "code",
      "source": [
        "def calc_s(n,train,mean):\n",
        "  s=np.zeros((10304,10304))\n",
        "  for i in range(0,n):\n",
        "    x=[]\n",
        "    for j in range(i*5,i*5+5):\n",
        "      z=train[j]-mean[i]\n",
        "      x.append(z)\n",
        "    temp=np.array(x) \n",
        "    s=np.array(s)    \n",
        "    s+=np.dot(temp.transpose(),temp)\n",
        "  x=np.array(x)\n",
        "  return s "
      ],
      "metadata": {
        "id": "QcgejHcIXcqE"
      },
      "execution_count": null,
      "outputs": []
    },
    {
      "cell_type": "markdown",
      "source": [
        "Calculating S and printing its shape\n",
        "\n",
        "---\n",
        "\n"
      ],
      "metadata": {
        "id": "3Nn74jwIbfvC"
      }
    },
    {
      "cell_type": "code",
      "source": [
        "S=calc_s(40,train,mean)\n",
        "print(S.shape)"
      ],
      "metadata": {
        "colab": {
          "base_uri": "https://localhost:8080/"
        },
        "id": "Hf5-N8r9aSt_",
        "outputId": "c79de171-d66b-434f-960c-15f13d9fe386"
      },
      "execution_count": null,
      "outputs": [
        {
          "output_type": "stream",
          "name": "stdout",
          "text": [
            "(10304, 10304)\n"
          ]
        }
      ]
    },
    {
      "cell_type": "markdown",
      "source": [
        "Calculating S inverse\n",
        "\n",
        "---\n",
        "\n"
      ],
      "metadata": {
        "id": "rPBgQTDwbo8Q"
      }
    },
    {
      "cell_type": "code",
      "source": [
        "s_1=np.linalg.inv(S)"
      ],
      "metadata": {
        "id": "r2_xroENcCsi"
      },
      "execution_count": null,
      "outputs": []
    },
    {
      "cell_type": "markdown",
      "source": [
        "Calculating dot product of S inverse and Sb\n",
        "\n",
        "---\n",
        "\n"
      ],
      "metadata": {
        "id": "RXlHvxHZcV_B"
      }
    },
    {
      "cell_type": "code",
      "source": [
        "result=np.dot(s_1,S_b)"
      ],
      "metadata": {
        "id": "HwGFUvyGguGM"
      },
      "execution_count": null,
      "outputs": []
    },
    {
      "cell_type": "markdown",
      "source": [
        "Calculating eigen values and eigen vectors\n",
        "\n",
        "---\n",
        "\n"
      ],
      "metadata": {
        "id": "ZuqEN1Fjci0r"
      }
    },
    {
      "cell_type": "code",
      "source": [
        "eigen_value,eigen_vector=np.linalg.eigh(result)"
      ],
      "metadata": {
        "id": "vLf1NVTjcr8h"
      },
      "execution_count": null,
      "outputs": []
    },
    {
      "cell_type": "markdown",
      "source": [
        "Taking the 39 dominant eigenvectors and calculating the projection matrix\n",
        "\n",
        "---\n",
        "\n"
      ],
      "metadata": {
        "id": "xqvVUsRRdpyG"
      }
    },
    {
      "cell_type": "code",
      "source": [
        "LDA_max_bias=[39]\n",
        "lda_proj=reduced_basis(eigen_vector,LDA_max_bias,0)\n"
      ],
      "metadata": {
        "id": "08Vzzkwjmwgn"
      },
      "execution_count": null,
      "outputs": []
    },
    {
      "cell_type": "markdown",
      "source": [
        "Printing the projection matrix shape\n",
        "\n",
        "---\n",
        "\n"
      ],
      "metadata": {
        "id": "YtWr8XkCd9ru"
      }
    },
    {
      "cell_type": "code",
      "source": [
        "print(lda_proj.shape)"
      ],
      "metadata": {
        "colab": {
          "base_uri": "https://localhost:8080/"
        },
        "id": "HexjryoveDeu",
        "outputId": "277cf878-47c4-4dec-9fd4-fba4eb823ebe"
      },
      "execution_count": null,
      "outputs": [
        {
          "output_type": "stream",
          "name": "stdout",
          "text": [
            "(39, 10304)\n"
          ]
        }
      ]
    },
    {
      "cell_type": "markdown",
      "source": [
        "Projecting the train & test datasets using the projection matrix\n",
        "\n",
        "---\n",
        "\n"
      ],
      "metadata": {
        "id": "RoRr14EidZPh"
      }
    },
    {
      "cell_type": "code",
      "source": [
        "reduced_train=np.matmul(train,lda_proj.transpose())\n",
        "reduced_test=np.matmul(test,lda_proj.transpose())"
      ],
      "metadata": {
        "id": "j97wcatvo0_2"
      },
      "execution_count": null,
      "outputs": []
    },
    {
      "cell_type": "markdown",
      "source": [
        "Calculating the accuracy of the LDA function \n",
        "\n",
        "---\n",
        "\n"
      ],
      "metadata": {
        "id": "7NODHfkfdKzS"
      }
    },
    {
      "cell_type": "code",
      "source": [
        "acc_lda=accuracy_calc(reduced_train,reduced_test,train_labels,test_labels)\n",
        "print(acc_lda)"
      ],
      "metadata": {
        "colab": {
          "base_uri": "https://localhost:8080/"
        },
        "id": "VlqSyN1wpRnI",
        "outputId": "ab7e7d10-34ce-42b1-c72d-3bad63fb3832"
      },
      "execution_count": null,
      "outputs": [
        {
          "output_type": "stream",
          "name": "stdout",
          "text": [
            "[94.5, 87.0, 84.0, 79.0]\n"
          ]
        }
      ]
    },
    {
      "cell_type": "markdown",
      "source": [
        "Function to plot the relation between K value and accuracy rate in LDA \n",
        "\n",
        "---\n",
        "\n",
        "\n"
      ],
      "metadata": {
        "id": "aKVo4o7McvuY"
      }
    },
    {
      "cell_type": "code",
      "source": [
        "def plot_lda(list1):\n",
        "  neighbors = [1,3,5,7]\n",
        "  plt.figure(figsize=(12, 6))\n",
        "  plt.plot(neighbors, list1, color='red', linestyle='dashed', marker='o',\n",
        "         markerfacecolor='red', markersize=10)\n",
        "  \n",
        "  plt.title('Accuracy Rate K Value')\n",
        "  plt.xlabel('K Value')\n",
        "  plt.ylabel('Accuracy')"
      ],
      "metadata": {
        "id": "BlXnmpp3pp0i"
      },
      "execution_count": null,
      "outputs": []
    },
    {
      "cell_type": "markdown",
      "source": [
        "Plotting the results\n",
        "\n",
        "---\n",
        "\n"
      ],
      "metadata": {
        "id": "GabzPR7DdDcv"
      }
    },
    {
      "cell_type": "code",
      "source": [
        "plot_lda(acc_lda)"
      ],
      "metadata": {
        "id": "vcs1xOmDp5Bg"
      },
      "execution_count": null,
      "outputs": []
    },
    {
      "cell_type": "markdown",
      "source": [
        "![2.png](data:image/png;base64,iVBORw0KGgoAAAANSUhEUgAAAs0AAAGDCAYAAADQ9S0AAAAABHNCSVQICAgIfAhkiAAAAAlwSFlzAAALEgAACxIB0t1+/AAAADh0RVh0U29mdHdhcmUAbWF0cGxvdGxpYiB2ZXJzaW9uMy4yLjIsIGh0dHA6Ly9tYXRwbG90bGliLm9yZy+WH4yJAAAgAElEQVR4nOzdd5iU5fm38fMCFgUEQcUO1mCwYFu7YkEjYCEqsUTsinlRsZBYozFGE5OYH4kxmtg1lqiAvQQ19oJB7DWigsaGCiqCusD9/nHPBkRglzL7zO6en+OYY2eeZ2bnu0wi195cz3VHSglJkiRJc9ei6ACSJElSpbNoliRJkupg0SxJkiTVwaJZkiRJqoNFsyRJklQHi2ZJkiSpDhbNkqSKFRHbRcS7ReeQJItmSU1SRDwYERMjYrGis5RDqZicERGTI+KLiHgtIg6Zj9c/GBGHL8T7f+v1pTwTI2Lf2Z63eERMiogd5vA9hkbEsAXNIEkNyaJZUpMTEasC2wAJ2L2B37tVA77deymlJYAOwPHAJRGxVgO+PwAR8QPgFuCQlNI/Zj2XUvoKuAE4cLbXtAT2A65qqJyStDAsmiU1RQcCTwJXAgfNeiIiukTEiIiYEBGfRMQFs5w7IiJeKa3cvhwRG5WOp4hYc5bnXRkRZ5fubxcR70bESRHxAXBFRHSKiDtK7zGxdH/lWV6/VERcERHvlc7fUjr+YkTsNsvzqiLi44jYcF4/bMruAj4FepReO9cMEXEO+ZeKC0or1ReUjn8/Iu6NiE9LK9d71/UHHRG7AjcCP04p3TKXp10F7BURbWc5tjP576C7I+KQWf7c34yII+fxfnP9LGrzRMSzpdXtxyOiR10/gyTVh0WzpKboQODa0m3niFgO/re6eQcwDlgVWAn4R+ncj4AzS6/tQF6h/qSe77c8sBSwCjCQ/N/WK0qPuwJTgQtmef7fgbbAOsCywNDS8auBAbM8ry/wfkrpmXm9eUS0iIjdgWWAN0qH55ohpXQa8AhwdEppiZTS0RHRDrgXuK6UaV/gwohYex5vvVvpZ+lfKtrnKKX0OPA+sOcshw8ArkspTQM+AnYl/7kfAgyt/YVlfpR+ubgcOBJYGvgbcFtTbdGR1LAsmiU1KRGxNblQvDGl9DQwFvhx6fSmwIrAz1JKX6aUvkopPVo6dzjwu5TSv0srt2+klMbV821nAL9IKX2dUpqaUvokpTQ8pTQlpfQFcA6wbSnfCkAf4CcppYkppZqU0kOl73MN0DciOpQeH0AuSudmxYiYRC6IbwZOqC2w55VhLnYF3k4pXZFSmlb6PsOBH83jNdsD/wEem8dzal1NqUWj9PP1o9SakVK6M6U0tvTn/hAwkrwSPr8GAn9LKY1KKU1PKV0FfA1svgDfS5K+xaJZUlNzEDAypfRx6fF1zGzR6AKMK61uzq4LucBeEBNKvbsARETbiPhbRIyLiM+Bh4GOpZXuLsCnKaWJs3+TlNJ75AJ0r4joSC6ur53H+76XUupIXqE9H/jfxXZ1ZJiTVYDNSm0Nk0rF+P7kVfS5OZ1clN5Sj9XcvwPbR8SKQH9gbG2BHxF9IuLJUlvIJPIK+zJ1fL+5/QxDZvsZupB/UZKkhdKQF6xIUllFRBtgb6Blqb8YYDFysbg+8A7QNSJazaFwfgdYYy7fegq5naLW8sCsY9DSbM8fAqwFbJZS+iAiNgCeAaL0PktFRMeU0qQ5vNdV5FXvVsATKaX/zv0nLr15Sl9HxEnAaxHxw1Jv8bwyzCnzO8BDKaWd6nq/WXxJLnDvBW6KiL1SSjVzyTguIh4ht5/0Kf2clIrt4eRV6FtTSjWlHu+Y0/dh3p/FO8A5KaVz5uNnkKR6caVZUlPyQ2A6sDawQenWndy/eyDwFLm39tyIaBd5HNpWpddeCvw0IjaObM2IWKV07lngxxHRMiJ6M+82B4D25JaJSRGxFPCL2hMppfeBu8n9wp1KF/v1nOW1twAbAceSWxrqJaX0DfAH4Iy6MpR8CKw+y+M7gG4RcUApU1VEbBIR3et43y+A3uT+8OvmsZINuVA+GtiKmSvorcm/2EwApkVEH+AH8/ge8/osLgF+EhGblT7DdhGxS0S0n9fPIEn1YdEsqSk5CLgipTQ+pfRB7Y18Adz+5NXL3YA1gfHkFcp9AFJKN5H7fq8DviAXr0uVvu+xpdfVtizMbUpErT8CbYCPyVM87pnt/AFADfAq+SK442pPpJSmkldeVwNGzN+Pz+XklfTd6pHhT0D/0mSN80vF7w/IFwC+B3wA/JZc0M5TacV8J6AbcHVEzO3vluHkP9P7S7881Bbdg8kTOCaS+89vm8fbzfWzSCmNBo4gf94TyRdFHlxXfkmqj0hp9n+hkyQVKSLOALqllAbU+WRJUoOwp1mSKkipleIw8mq0JKlC2J4hSRUiIo4gX8x2d0rp4aLzSJJmsj1DkiRJqoMrzZIkSVIdLJolSZKkOjSKCwGXWWaZtOqqqxYdQ5IkSU3c008//XFKqfPsxxtF0bzqqqsyevToomNIkiSpiYuIcXM6bnuGJEmSVAeLZkmSJKkOFs2SJElSHSyaJUmSpDpYNEuSJEl1sGiWJEmS6mDRLEmSJNXBonl2Y8fCoEHQoQO0aJG/DhqUj0uSJKlZsmie1d13Q48ecOml8MUXkFL+euml+fjddxedUJIkSQWwaK41diz07w9TpkBNzbfP1dTk4/37u+IsSZLUDFk01/rDH75bLM+upgaGDm2YPJIkSaoYFs21rrmmfkXz3//eMHkkSZJUMSyaa02evGifJ0mSpCbDornWEkss2udJkiSpybBorjVgAFRVzfs5LVrAfvs1TB5JkiRVDIvmWkOG1F00z5gBBxzQMHkkSZJUMSyaa62xBgwbBm3bfrd4rqrKx6+7DrbaKhfPw4fnOc6SJElq8iyaZ9WnDzz/PAwc+O0dAQcOzMdrWzNuuSXPbO7bFz74oNjMkiRJKrtIjWC1tLq6Oo0ePbroGDOlBBddlFs6llgCLrsMdt+96FSSJElaSBHxdEqpevbjZV1pjohjI+LFiHgpIo6b7dyQiEgRsUw5M5RFBAwaBGPGQJcu0K8fnHFG0akkSZJUJmUrmiNiXeAIYFNgfWDXiFizdK4L8ANgfLnev0F07w5PPgknngg77FB0GkmSJJVJOVeauwOjUkpTUkrTgIeAPUvnhgInApXfG1KX1q3ht7+F7bbLj08/HX79a5g+vdBYkiRJWnTKWTS/CGwTEUtHRFugL9AlIvoB/00pPTevF0fEwIgYHRGjJ0yYUMaYi9CMGTB2LJx2Gmy/PYwbV3QiSZIkLQJlK5pTSq8AvwVGAvcAzwKLAacCdTYAp5QuTilVp5SqO3fuXK6Yi1aLFnDttXD11fDss9CjRx5TJ0mSpEatrBcCppQuSyltnFLqCUwEXgJWA56LiLeBlYExEbF8OXM0qIi8Acpzz8F668Ehh8D4xt26LUmS1NyVe3rGsqWvXcn9zFellJZNKa2aUloVeBfYKKXU9IYdr7YaPPggPPwwdO2aj736aqGRJEmStGDKvbnJ8Ih4GbgdOCqlNKnM71dZWrWCzTbL92+9FdZeG045Bb75pthckiRJmi/lbs/YJqW0dkpp/ZTS/XM4v2pK6eNyZqgYvXrBoYfCuefCllvCa68VnUiSJEn15DbaDWWJJeDSS2HECHjrLdhwQ7jyyqJTSZIkqR4smhvaHnvACy/A1lvDYosVnUaSJEn10KroAM3SiivCP/+ZJ21AXnFedlno27fQWJIkSZozV5qLUlswz5gBF10Eu+wCRx8NU6cWm0uSJEnfYdFctBYt4KGH4Ljj4C9/gY03zhujSJIkqWJYNFeCxReHoUNh5EiYNAk23xzefbfoVJIkSSqxp7mS7LRTvkjwrrtg5ZXzsS+/hHbtis0lSZLUzLnSXGmWXjpvww3w6KOwyipw443FZpIkSWrmLJor2fLLw5prwj77wEEHweefF51IkiSpWbJormRrrgmPPAJnnAHXXAMbbACPP150KkmSpGbHornSVVXBL3+Zi2fILRuSJElqUF4I2FhsuSU899zMiwL/9S/o2jWvRkuSJKmsXGluTNq3z3Odp0+Hn/wkt2tcdhmkVHQySZKkJs2iuTFq2RLuvx823RQOPxz694dPPik6lSRJUpNl0dxYdekC990Hv/sd3H479OgBH3xQdCpJkqQmyaK5MWvRAn72M3jqKTjwQFhuuXzcdg1JkqRFyqK5KdhgA/jNbyACXn0Vttgi7ywoSZKkRcKiuan56CN46y3YZBP4059gxoyiE0mSJDV6Fs1NTc+eeZV5p53guOOgTx94//2iU0mSJDVqFs1N0bLLwm23wUUX5U1R/vSnohNJkiQ1am5u0lRF5FnOO+yQJ20AvPYarLQSLLFEsdkkSZIaGVeam7pu3aBNG5g2DXbbDTbcME/bkCRJUr1ZNDcXrVrBJZfA11/nLbnPPjvvLChJkqQ6WTQ3J9tuC88/D3vvDaefnh+7k6AkSVKdLJqbm44d4brr4JproFOn/FiSJEnzZNHcXO2/f95+u2VL+PBDOPJImDix6FSSJEkVyaJZeSzd5ZdDjx7wwANFp5EkSao4Fs2C/v3hiSegbVvo1QtOOgm++aboVJIkSRXDollZdTWMGQNHHAG/+x38/OdFJ5IkSaoYZS2aI+LYiHgxIl6KiONKx34fEa9GxPMRcXNEeCVapWjXDv72t9zrfNJJ+djEiZBSsbkkSZIKVraiOSLWBY4ANgXWB3aNiDWBe4F1U0o9gNeBU8qVQQto111h6aXzhii9e+dNUT78sOhUkiRJhSnnSnN3YFRKaUpKaRrwELBnSmlk6THAk8DKZcyghdGyJQwYAPfdB+utB3feWXQiSZKkQpSzaH4R2CYilo6ItkBfoMtszzkUuHtOL46IgRExOiJGT5gwoYwxNVcRcMwx8PTTsMIKeQV60CCYOrXoZJIkSQ2qbEVzSukV4LfASOAe4Fngf/s2R8RpwDTg2rm8/uKUUnVKqbpz587liqn6WGcdeOopGDIEHnrIHmdJktTslPVCwJTSZSmljVNKPYGJ5B5mIuJgYFdg/5SswBqFxRaD886D0aPzaLovv4QLL4Tp0+t+rSRJUiNX7ukZy5a+dgX2BK6LiN7AicDuKaUp5Xx/lUGbNvnrNdfAUUfluc7jxxebSZIkqczKPad5eES8DNwOHJVSmgRcALQH7o2IZyPir2XOoHIYOBCuuCL3O/foAf/4R9GJJEmSyqZVOb95SmmbORxbs5zvqQYSAQcfDNtskyds7LcfvPUWnOIEQUmS1PSUtWhWM7DGGvDII3DuubDPPvnYjBnQws0mJUlS02Flo4XXqlXednv11fNkjf794bTToKam6GSSJEmLhEWzFq2aGujYEX79a9hqK/jPf4pOJEmStNAsmrVotW4Nl18ON90Eb7wBG2wAl1zibGdJktSoWTSrPPr3h+efhy22gNNPh0mTik4kSZK0wCyaVT4rrwwjR8Ljj0OnTjBtGjz6aNGpJEmS5ptFs8qrRYt8gSDAX/+aR9QdeyxMnVpsLkmSpPlg0ayGc9hhMHgwnH8+bLJJbt+QJElqBCya1XDatIE//QnuuQc++SQXzlddVXQqSZKkOlk0q+HtvHNeZd5tN+jeveg0kiRJdXJHQBWjc2cYNmzm49NOg402gr32Ki6TJEnSXLjSrOJ99RXce28eU3fYYTB5ctGJJEmSvsWiWcVbfHF47LG82nzllXlDlFGjik4lSZL0PxbNqgxVVXD22fDgg3me8847w+efF51KkiQJsKdZlWabbeC552DMGOjQIW+//cEHsMIKRSeTJEnNmCvNqjxLLgnbb5/vX3UVdOuW2zZSKjSWJElqviyaVdm23z5P1TjkENh7b/j006ITSZKkZsiiWZVtlVXgX/+Cc8+FW26BHj1y37MkSVIDsmhW5WvZEk46KU/UaN8evvii6ESSJKmZ8UJANR4bbZR3Eqyqyo+vugqqq2GddYrNJUmSmjxXmtW41BbMU6bAqafmovnPf/YiQUmSVFYWzWqc2rbNY+l22AEGD4a+ffNoOkmSpDKwaFbjtdxycMcdcMEF+eLADTe031mSJJWFPc1q3CLgqKPyivNjj+ULBSHvKtjK/3lLkqRFw5VmNQ3du8Phh+f7I0fCuuvC6NHFZpIkSU2GRbOansUXhy+/hC22gHPOgenTi04kSZIaOYtmNT09e+bRdHvuCT//OWy3Hbz9dtGpJElSI2bRrKapUyf4xz/g6qvhuefgn/8sOpEkSWrEvFJKTVcEHHAA9OoFK6yQjz38cN6Ku2PHYrNJkqRGpawrzRFxbES8GBEvRcRxpWNLRcS9EfGf0tdO5cwgseKKuYCePBn22APWXz8Xz5IkSfVUtqI5ItYFjgA2BdYHdo2INYGTgftTSt8D7i89lspviSXgrrugdevc53zKKfDNN0WnkiRJjUA5V5q7A6NSSlNSStOAh4A9gX7AVaXnXAX8sIwZpG/bbDN45hk49FA491zYcsu8JbckSdI8lLNofhHYJiKWjoi2QF+gC7BcSun90nM+AJYrYwbpu5ZYAi69FEaMyJuitG1bdCJJklThylY0p5ReAX4LjATuAZ4Fps/2nASkOb0+IgZGxOiIGD1hwoRyxVRztsce8Lvf5fvPPAN77QUffVRsJkmSVJHKeiFgSumylNLGKaWewETgdeDDiFgBoPR1jlVKSunilFJ1Sqm6c+fO5YwpwUsvwZ135skad91VdBpJklRhyj09Y9nS167kfubrgNuAg0pPOQi4tZwZpHoZMAD+/W/o3Bl22QWOPhqmTi06lSRJqhDl3txkeES8DNwOHJVSmgScC+wUEf8Bdiw9loq33nq5cD7+ePjLX+Cii4pOJEmSKkTktuLKVl1dnUaPHl10DDUnjz6aJ21UVeUtuLt2hRZuoClJUlMXEU+nlKpnP24VIM3J1lvngvnzz/P9HXeEd94pOpUkSSqIRbM0L+3bwy9/CU89lS8SvPHGohNJkqQCWDRL8xIBhx2WR9J16wb77AMHHQRffVV0MkmS1IAsmqX6+N73cp/z6afDp5/CYosVnUiSJDUgi2apvqqq4Kyz4NZb8wr0+PHwq19BTU3RySRJUplZNEvzq3aKxo03whlnwDbbwBtvFJtJkiSVlUWztKB++lO44QZ47TXYYAO47DJoBCMcJUnS/LNolhbG3nvD88/DppvC4YfnTVEkSVKTY9EsLawuXeC++3LBfOCB+ZjTNSRJalIsmqVFoUULGDQIOnTIBfNmm8EJJ1g8S5LURFg0S4taSvniwKFDc9vGCy8UnUiSJC0ki2ZpUWvTBi64AO68Ez78EDbZBP74R5gxo+hkkiRpAVk0S+XSt29eZd5pJ7j6apg2rehEkiRpAVk0S+W07LJw2235QsHWrWHSJLj99qJTSZKk+WTRLJVbBCy1VL5/3nmw++5wxBEweXKxuSRJUr1ZNEsN6Ywz4OST80YoG24ITz1VdCJJklQPFs1SQ2rdGn7zG3jgAfj6a9hyS7j++qJTSZKkOlg0S0XYdtu8k+Bhh0HPnkWnkSRJdbBolorSsSP87W+w0kp5HN2ee+YpGykVnUySJM3GolmqBJ99BhMmwEEHwb77wsSJRSeSJEmzsGiWKkGnTvDgg3DOOTBiBPTokfueJUlSRbBolipFy5Zw6qnw+ON5V8HDDoNvvik6lSRJAloVHUDSbDbZBJ55BsaNy9M2vv463+/WrehkkiQ1W640S5WoXTtYe+18/5xzYP314cILvUhQkqSCWDRLle7//b88ou6oo2DXXeHDD4tOJElSs2PRLFW6FVaAu+6CP/0J7r8f1lvPiwQlSWpgFs1SY9CiBQweDE8/DauvDssuW3QiSZKaFYtmqTFZZx144on8FeCMM2DMmGIzSZLUDFg0S41NRP46YQJcfjlsvjn89rcwfXqxuSRJasLKWjRHxPER8VJEvBgR10fE4hHRKyLGRMSzEfFoRKxZzgxSk9W5Mzz/PPTrByefDL16wfjxRaeSJKlJKlvRHBErAYOB6pTSukBLYF/gImD/lNIGwHXAz8uVQWrylloKbrwRrrgi9ztvuy3U1BSdSpKkJqfcm5u0AtpERA3QFngPSECH0vklS8ckLagIOPhg2GYbePNNqKqCGTPgyy+hffui00mS1CSUbaU5pfRf4DxgPPA+8FlKaSRwOHBXRLwLHACcW64MUrOyxhqw0075/gUX5NF0jz5abCZJkpqIcrZndAL6AasBKwLtImIAcDzQN6W0MnAF8H9zef3AiBgdEaMnTJhQrphS07TpptCyZW7X+PnPbdmQJGkhlfNCwB2Bt1JKE1JKNcAIYCtg/ZTSqNJzbgC2nNOLU0oXp5SqU0rVnTt3LmNMqQnafHN49lk46KC8DfdWW8HrrxedSpKkRqucRfN4YPOIaBsRAfQCXgaWjIhupefsBLxSxgxS89W+fR5Jd9NN8NZb8N//Fp1IkqRGq84LASNiN+DOlNKM+fnGKaVRETEMGANMA54BLgbeBYZHxAxgInDofKeWVH/9+0Pv3rDEEvnx9dfn3udllik2lyRJjUiklOb9hIhrgC2A4cDlKaVXGyLYrKqrq9Po0aMb+m2lpueDD2C11aBjR7jySth556ITSZJUUSLi6ZRS9ezH62zPSCkNADYExgJXRsQTpYv0nGUlNTbLLw9PPpnnO/fuDcceC1OnFp1KkqSKV6+e5pTS58Aw4B/ACsAewJiIOKaM2SSVw/rrw+jRcMwxcP75sPXWMG1a0akkSapo9elp3h04BFgTuBrYNKX0UUS0JV/Y9+fyRpS0yLVpkwvmvn3hnXegVek/BSnlzVIkSdK31GdHwL2AoSmlh2c9mFKaEhGHlSeWpAbRu/fM+yNGwEUX5V7nlVYqLJIkSZWoPu0ZZwJP1T6IiDYRsSpASun+sqSS1PC+/BIefxx69IDhw4tOI0lSRalP0XwTMOu4uemlY5KakgMOgGeegdVXz2PqDj0Uvvii6FSSJFWE+hTNrVJK39Q+KN1vXb5IkgrTrVtebT711Nymcc89RSeSJKki1KdonlC6GBCAiOgHfFy+SJIKVVWVt95+6SX40Y/ysX//2wkbkqRmrT5F80+AUyNifES8A5wEHFneWJIK1717/vree9CzZ769+WaxmSRJKkh9NjcZm1LaHFgb6J5S2jKl9Eb5o0mqCCuuCFdcAS+/nGc8X3llHk03diwMGgQdOkCLFvnroEH5uCRJTUyd22gDRMQuwDrA4rXHUkpnlTHXt7iNtlQBxo+HAw+Ehx7KG6KMGQM1NflWq6oq34YNgz59issqSdICWuBttCPir8A+wDFAAD8CVlnkCSVVtq5d4f774Wc/y1txT5ny7YIZ8uMpU/L0DVecJUlNSH16mrdMKR0ITEwp/RLYAuhW3liSKlLLljB5ct27BtbUwNChDZNJkqQGUJ+i+avS1ykRsSJQA6xQvkiSKto113x3hXl2NTXw9783TB5JkhpAfYrm2yOiI/B7YAzwNnBdOUNJqmCTJ9f/eZMmlTeLJEkNpNW8TkZEC+D+lNIkYHhE3AEsnlL6rEHSSao8SyxRv50C27WD5ZaDddaB3r3zbYst8oWCkiQ1MvNcaU4pzQD+Msvjry2YpWZuwIC6C9+qKth7b/jlL6F9e/jd72DbbWGZZeDmm/Nz6jG5R5KkSlGf9oz7I2KviLqu/JHULAwZUr+i+ZRT4OST84i6Tz6B4cNhn33g+9/Pzxk+HNZbL0/juP9++Prr8meXJGkB1adoPhK4Cfg6Ij6PiC8i4vMy55JUqdZYI89hbtv2u8VzVVU+PmxYfl6tJZeEPfeEiy+eudNg+/a5feP882HHHWHppWH33evX+iFJUgOrz46A7VNKLVJKrVNKHUqPOzREOEkVqk8feP55GDjw2zsCDhyYj9dnY5Odd4b77sur0LfdBgcdBJ9/nnumAU47DY47Du65B6ZOLe/PI0lSHercETAies7peErp4bIkmgN3BJSaoQMPhJtugq++gsUXh+22y/3U++9fdDJJUhO2wDsCAj+b5XY6cDtw5iJNJ0mzu/pq+PRTuPtuOPJIeOstGDUqn5s+HY4/Hm6/vf4j8CRJWgh1rjR/5wURXYA/ppT2Kk+k73KlWRIA33wDrVvDa6/BxhvDl1/mPupttsktIfvuCyuvXHRKSVIjtjArzbN7F+i+8JEkaT61bp2/rrVW7oW+7z449lj48MM8hePVV/P5V1/N0zk+c0KmJGnRmOfmJgAR8Wegdjm6BbABeWdASSrOYotBr1759vvfwzvv5GkcANdeC2efDS1bwpZb5lXo3r1hgw3A6ZmSpAVQnwsBD5rl4TTg7ZTSY2VNNRvbMyTNl5oaePLJ3A99zz3wzDN5xN0nn+R2jueegy5dYKmlik4qSaowc2vPqE/R3A74KqU0vfS4JbBYSmlKWZLOgUWzpIXywQfwyiuw/fb58brr5sebbjpzFbq6Oo/OkyQ1awvT03w/0GaWx22A+xZVMEkqu+WXn1kwA1x6KZx+OsyYAWeeCZttBocfPvP8xx83eERJUmWrs6cZWDyl9L+ZTimlyRHRtoyZJKm8Nt883848MxfI9947c+rGm2/m3Qw33jivQPfpk4vqVvX5z6Ukqamqz0rzlxGxUe2DiNgYcHsuSU3DMsvAfvvlsXWQtwE/++y8ocpvfgNbbw2dO8Mjj+Tz8zmmU5LUNNSnaD4OuCkiHomIR4EbgKPr880j4viIeCkiXoyI6yNi8cjOiYjXI+KViBi8MD+AJC1Syy+ft/B+9NG8Cn3TTbDnnvD97+fz558P668PJ58MDz6YZ0dLkpq8em1uEhFVwFqlh6+llGrq8ZqVgEeBtVNKUyPiRuAuIIDtgYNTSjMiYtmU0kfz+l5eCCipYgwbBhdemIvqmpo8leMHP4Abb/RCQklqAhb4QsCIOApol1J6MaX0IrBERAyq5/u2AtpERCugLfAe8P+As1JKMwDqKpglqaL07w//+lceX3fLLbD//rnfubZgPuIIOOGE3Cf91VfFZpUkLTL1GTn3bEppg9mOPZNS2rDObx5xLHAOuQd6ZB7t4vEAABxVSURBVEpp/4j4BPg/YA9gAjA4pfSfObx2IDAQoGvXrhuPGzeunj+SJBUkJejXD0aOhK+/zv3R22+fC+l+/YpOJ0mqh4UZOdcyYuYWWqU5za3r8YadgH7AasCKQLuIGAAsRp77XA1cAlw+p9enlC5OKVWnlKo7d+5cj5iSVLAIuO02+PRTuPNOOOwweO21mdt7T5oExxyTz01psFH3kqRFoD4zlO4BboiIv5UeHwncXY/X7Qi8lVKaABARI4AtgXeBEaXn3AxcMV+JJanStW0LffvmG8C0afnriy/CZZfBBRfkbcB79sxj7QYMgGWXLS6vJKlO9VlpPgn4F/CT0u0Fvr3ZydyMBzaPiLallepewCvALeQLAQG2BV6f39CS1KjUznjeeuu8Cj1yJBx1FLz7LgwZkvujAZ56Cm69Fb74oriskqQ5qnOluTThYhSwBrA3sAwwvB6vGxURw4AxwDTgGeBicsF9bUQcD0wGDp/7d5GkJmbxxWGnnfLtD3+A8eOhS5d87uKL80p0q1a5wK7dXGW99XLrhySpMHO9EDAiugH7lW4fk+cz/zSltErDxcscOSepWfjmG3j8cbjnnnx77jlYc034T+la6VGjYK21oGPHYnNKUhM2twsB51U0zwAeAQ5LKb1ROvZmSmn1siadA4tmSc3Se+/llejNN4fp03Pf82ef5ce1q9Abbuh8aElahBZkesaewPvAAxFxSUT0Im9MIklqCCuumAtkmDmZ45RT8vzn00+H6mr4+c/z+WnT8g6GkqSyqM+c5nbk0XH7ATsAVwM3p5RGlj9e5kqzJM3mo4/yBYXrrZe39X7kEdh221xI9+mTV6I33RRatiw6qSQ1KvPdnjGXb9IJ+BGwT0qp1yLMN08WzZJUh3Hj4Kqr4O678xSOGTOgU6e83ffaa+fHtnFIUp0WSdFcFItmSZoPn3wC992Xb3/5C7RuDSedlFema1eht9gCqqqKTipJFWdhdgSUJDUmSy8N++wDl1ySC2aA7t2hQwf43e9yG8cyy8DhTvyUpPqqz46AkqTG7uCD8+2zz+Bf/8ptHG1m2aeqXz/43vfySvTWW+cdCyVJ/2N7hiQ1d1OmwO67w8MPQ00NtGsHO+wAgwfDjjsWnU6SGpTtGZKkOWvbNvc/f/ppHmt30EHw4ovwwQf5/NixcOyxecOVqVOLzSpJBXGlWZL0XSnlW4sWcPPN8OMf5/nQiy8O222XLyY8+GBYcsmik0rSIuVKsySp/iJmjqjbY4+8Cn333XDkkfDWW3DCCXmXQsir1LffDpMnF5dXksrMCwElSXVr0yavLvfunR+/9x4stVS+P3Qo3HVXntSxzTb5OX375vnQktREuNIsSZp/K6448/6IEXD//fnCwQ8/hJ/9DAYNmnn+wQfz1A5JasTsaZYkLVrvvps3WFl//VwsL710bvfYcsu8Ct2nTz4XUXRSSfoOe5olSQ1j5ZVzUQx5fN0DD8CJJ8IXX8Cpp8KGG8IFF+TzU6bkfmlJqnAWzZKk8mnVKvc5n3MOjBkD778PV14Ju+2Wz992G3TunFehzzoLnnpq5gWGklRBbM+QJBXn9dfhuuvyZI5//zuPuVt6aXjllVxMT58OLVsWnVJSM2J7hiSp8nTrBmeeCaNGwUcf5QL6gANywQx5o5VNNoHTT4fHHoNp0wqNK6n5smiWJFWGZZaB/fbLI+xqbbYZLLYY/PrXsPXW+Tk//WlxGSU1WxbNkqTKdcwx8Oij8PHHcOONsNde0KlTPjdtWu6XPvnkPNbum28KjSqpabOnWZLUOL33Huy/fy6qp02D9u2hVy846STYfPOi00lqpOxpliQ1LSuumMfZffop3Hwz/PjHeULH1Kn5/KhRebvvkSPhq6+KzSqp0XOlWZLUdNT+nRYBl1yS2zu+/jpvA7799nljlcMOy48laQ5caZYkNX0RM3caPOKIvDPhnXfmQvn11+HnP4eqqnx+xIh8bsqU4vJKajRcaZYkNR8ffQTLLpvvb7QRPPNMns7Rs2fe4nuXXWCttYrNKKlQrjRLklRbMAM8/njudz7qKHj3XRgyJO9KCLnN4+6789bfkoQrzZIkZePG5f7nbt1yK8daa+VtwLfeOvdC9+4N6603s/1DUpPkSrMkSfOyyiq5YAZYddU8mWPIEJg4MY+xW399GD48n580Kd/qY+xYGDQIOnSAFi3y10GD8nFJjYYrzZIk1eW99+Cf/4R+/WCppeAPf5g5D7p2FXrDDXNRPKu774b+/aGmJt9qVVXl27Bh+fWSKsbcVprLWjRHxPHA4UACXgAOSSl9VTp3PnBoSmmJur6PRbMkqaK88ELeofCee6D276eVVoI334TWrfNmK+PGQY8e857O0bYtPP88rLFGw+SWVKcGb8+IiJWAwUB1SmldoCWwb+lcNdCpXO8tSVJZrbce/OpX8O9/w4cfwt//DkcemQtmgB/8ALbcsu5NVWpqYOjQ8ueVtNDK3dPcCmgTEa2AtsB7EdES+D1wYpnfW5Kk8lt2WRgwAE4/feaxnXbKM6JnzJj3a2tqcsEtqeKVrWhOKf0XOA8YD7wPfJZSGgkcDdyWUnp/Xq+PiIERMToiRk+YMKFcMSVJWvROOaXugrnW5MnlzSJpkShne0YnoB+wGrAi0C4iDgR+BPy5rtenlC5OKVWnlKo7d+5crpiSJJXHEnVespO1a1feHJIWiXK2Z+wIvJVSmpBSqgFGAL8E1gTeiIi3gbYR8UYZM0iSVIwBA2Zu2T0vX32VJ3FMm1b+TJIWWDmL5vHA5hHRNiIC6AX8X0pp+ZTSqimlVYEpKaU1y5hBkqRiDBlSd9G8+OL5osGnn84bqUCeCy2p4pSzp3kUMAwYQx431wK4uFzvJ0lSRVljjTyHuW3b7xbPVVX5+IgRcMcdeXQd5HnQK60EP/4xPPdcw2eWNFdlnZ6RUvpFSun7KaV1U0oHpJS+nu18PRu+JElqhPr0yXOYBw789o6AAwfm47Ubm9SuMrduDUcfDbffDhtsALvsAo8+Wlx+Sf/jjoCSJFWaiRPhwgvhj3+ETz+Ft9+GLl2KTiU1Cw2+uYkkSVpAnTrBaaflXQXvvHNmwTxkCFx3nRcNSgWwaJYkqVK1bQu9e+f7X34J//wn7L8/dOsGF11U946DkhYZi2ZJkhqDdu1yH/Qtt+RdCAcNglVXtedZaiAWzZIkNRYtWkC/fvDEE/DAA7DZZtC9ez73wgvw4YfF5pOaMItmSZIamwjYbju49VZYeul87PDD88rzUUflCwclLVIWzZIkNQVXX537nS+5BNZcM+9I+PLLRaeSmgyLZkmSmoK11oJLL4W33oJjj829z488ks/NmFFsNqkJsGiWJKkpWWkl+MMfYPx4OPjgfOzCC2HbbfPOg41gfwapElk0S5LUFC21FCy2WL6/5JLw5pt5B8KNNoIbboDp04vNJzUyFs2SJDV1BxwAY8fC5ZfD1Kmw7765/1lSvVk0S5LUHLRuDYccAi+9BMOH5znPABMm5HaOL74oNp9U4SyaJUlqTlq2hD33hJ498+PbboOf/hRWWQXOOCMX0ZK+w6JZkqTm7LDDYNSoPPf5V7/KxfNxxzlxQ5qNRbMkSc3dppvCiBF5rvM++8AHH+TdBwHee6/YbFKFsGiWJElZ9+5wxRVw/fX58WuvQdeuuZ3jqaeKzSYVzKJZkiR9W0T+2rkznHoqPPAAbLYZ9OoF997rrGc1SxbNkiRpzpZaCs46K2+Uct558MorsPvu8PHHRSeTGpxFsyRJmrf27WHIkLxF93335RVoyDsOXnYZfPNNofGkhmDRLEmS6mexxWCrrfL9SZPguefg8MNh9dVh6FCYPLnYfFIZWTRLkqT517EjjBkDd98Na64JJ5yQx9WNGlV0MqksLJolSdKCiYDeveHBB+Hxx/P99dbL5558Et59t9B40qJk0SxJkhbeFlvAtddC27Z5usahh+a2jcMOy6PrpEbOolmSJC1aEXDnnTBwIFx3XZ7/3L8/vPBC0cmkBWbRLEmSFr3VVoMLLoC334ZTTslTN159NZ+bNs1Zz2p0LJolSVL5LLccnHMOjBuXdxYE+M1vYPPN4ZZbYMaMYvNJ9WTRLEmSym/JJaFly3x/9dXzBil77AHrrgtXXQU1NcXmk+pg0SxJkhrW/vvniwOvuw6qqvImKUccUXQqaZ4smiVJUsNr1Qr22w+efTZfNDh4cD7+1ltw9tkwcWKx+aTZlLVojojjI+KliHgxIq6PiMUj4tqIeK107PKIqCpnBkmSVMEioG9f2Gij/Pjuu+H00/NGKSeeCO+/X2w+qaRsRXNErAQMBqpTSusCLYF9gWuB7wPrAW2Aw8uVQZIkNTKDBuXtuXfdFf7wB1h1VTjmGKdtqHDlbs9oBbSJiFZAW+C9lNJdqQR4Cli5zBkkSVJj0qNH7nd+/XU45JA8YSMin3vjjWKzqdkqW9GcUvovcB4wHngf+CylNLL2fKkt4wDgnnJlkCRJjdgaa8Bf/5rnPQM89RR873u5neORR1x9VoMqZ3tGJ6AfsBqwItAuIgbM8pQLgYdTSo/M5fUDI2J0RIyeMGFCuWJKkqRKV7vK3K1bnvk8ejT07Albbw133OGsZzWIcrZn7Ai8lVKakFKqAUYAWwJExC+AzsAJc3txSunilFJ1Sqm6c+fOZYwpSZIahY4d4dRT8y6Df/4zvPsuHHAATJ5cdDI1A+UsmscDm0dE24gIoBfwSkQcDuwM7JdS8ldDSZI0f9q2haOPzv3NDz4IHTrk1eZdd4ULL4SpU4tOqCaonD3No4BhwBjghdJ7XQz8FVgOeCIino2IM8qVQZIkNWFVVbD++vn+xx/DJ5/AUUfliRvnnguffVZoPDUtkRpBE311dXUaPXp00TEkSVIlSwkeegh+8xsYOTKvQD/0EGywQdHJ1IhExNMpperZj7sjoCRJahoiYLvt4J//hKefhh//GNZZJ5+7996826C0gCyaJUlS07PRRnDRRbmFY8YMOOKIPK5uwAB48cWi06kRsmiWJElNW4sW8NhjcNxxcMstsN56sNtueedBqZ4smiVJUtO30kpw3nkwfjycdRY88US+eBDytI1GcI2XimXRLEmSmo+lloLTT8/F8w475GOnnprbOW64AaZPLzafKpZFsyRJan7atp250+Cmm8JXX8G++8Jaa8HFF8PXXxebTxXHolmSJDVv++0HL70EI0bklegjj4Tjjy86lSqMRbMkSVKLFrDHHjBqFNx3X75oEPLFgqefDhMmFJtPhbNoliRJqhUBvXpBt2758QMPwDnnwCqrwODBuRdazZJFsyRJ0twcd1xu3dh33zz3eY014Jhjik6lAlg0S5IkzUv37nD55fDmm3D00bnvGfKYumeeKTabGoxFsyRJUn106QJDh8Ivf5kfjxyZR9XtsEO+76znJs2iWZIkaUFsuWXeMOW112DnnWGTTWDYMGc9N1EWzZIkSQuifXsYMiS3bVxyCXz2GRx7LEybVnQylYFFsyRJ0sJYbDE4/HB49VV48MH8+Jtv8kr0//0fTJ5cdEItAhbNkiRJi0LLlvC97+X7Eybk4nnIkDyu7swz4ZNPCo2nhWPRLEmStKittFKe8fzEE7D11vniwa5d4ZVXik6mBWTRLEmSVC6bbw633govvpj7nb///Xx8xIh8AaEaDYtmSZKkcltnHfj1r/OOgzU1cNRRef5z//7w9NNFp1M9WDRLkiQ1pKoqeO45OPVUuO8+qK6GnXaCZ58tOpnmwaJZkiSpoS27LJx9NowfD7/9bW7fmDEjn/v885n3VTEsmiVJkorSoQOceGIunjfaKB8bPBjWXReuuiq3cqgiWDRLkiQVrapq5v1ddsmPDz4Y1lgDzj8fpkwpLJoyi2ZJkqRK8qMf5f7mO+/MM56PPTbPeVahLJolSZIqTQT07QuPPJJvgwfn4488Aj/7Gbz3XrH5miGLZkmSpEq29daw8sr5/qhReWvu1VaDgQPhjTeKzdaMWDRLkiQ1Fj/9KfznP3DooXD11bDWWnD00UWnahYsmiVJkhqT1VeHiy6Ct9/OrRrduuXj06bBo49CSoXGa6osmiVJkhqj5ZeHc8+d2e88fDhssw1stRXcdpuznhexshbNEXF8RLwUES9GxPURsXhErBYRoyLijYi4ISJalzODJElSs7D77nDBBfkiwX79oEcPuOYamD696GRNQtmK5ohYCRgMVKeU1gVaAvsCvwWGppTWBCYCh5UrgyRJUrPRpg0cdVTueb766tymcfbZeRIH2LaxkMrdntEKaBMRrYC2wPvADsCw0vmrgB+WOYMkSVLzUVUFBxwAL7wA990HLVrA5Mmwzjrw61/DpElFJ2yUylY0p5T+C5wHjCcXy58BTwOTUkrTSk97F1ipXBkkSZKarRYtZo6q+/RT6NoVTjstb5hy8snwwQfF5mtkytme0QnoB6wGrAi0A3rPx+sHRsToiBg9YcKEMqWUJElqBrp2hXvugTFjoHdv+P3vYdVV8wQO1Us52zN2BN5KKU1IKdUAI4CtgI6ldg2AlYH/zunFKaWLU0rVKaXqzp07lzGmJElSM7HhhnDDDfDqq3DWWblwBrjiitzOobkqZ9E8Htg8ItpGRAC9gJeBB4D+peccBNxaxgySJEma3fe+ByeemO9PnZrv9+gBu+4Kjz1WbLYKVc6e5lHkC/7GAC+U3uti4CTghIh4A1gauKxcGSRJklSHNm3g9dfzyvOTT+Ztu3v2hOeeKzpZRYnUCMaPVFdXp9GjRxcdQ5IkqWn78ku47DIYOhTuvRfWXBM+/hg6doRWrep+fRMQEU+nlKpnP+6OgJIkScratcs7DI4dmwtmgMMOg+9/H/72N/jqq2LzFciiWZIkSd/WYpYS8ZBDYKml4Cc/gdVWy5M3Pv+8uGwFsWiWJEnS3P3whzBqFNx/P6y7br5o8I9/LDpVg7NoliRJ0rxFwA475D7nf/87b9cNcMcdcMwxMG5csfkagEWzJEmS6q+6GpZeOt9/6SX4619z//NBB+XHTZRFsyRJkhbMSSfBm2/C0UfDsGG5fWPw4KJTlYVFsyRJkhZcly55RN24cfCLX8Amm+TjU6fmdo5GMN64PiyaJUmStPCWWQbOPBMOOCA/vuYa+MEPcjvHTTfB9OmFxltYFs2SJEla9A48EC69FL74AvbeG7p3z49nzCg62QKxaJYkSdKit9hieWOUV17JK83t2+fdBiPy+dlXnseOhUGDoEOHPCe6Q4f8eOzYhs8+B26jLUmSpPJLCT79NE/emDABNtoIDj00Xzj41FPQvz/U1ORbraqqfBs2DPr0aZCYbqMtSZKk4kTMHFU3eXLudT7rLFh5Zdh9d5gy5dsFM+THU6bkgrrgFWeLZkmSJDWs1VaDm2/Oc527doVp0+b9/JqaPKGjQBbNkiRJKsbaa8P779f9vJoa+Pvfy59nHiyaJUmSVJzJkxft88rEolmSJEnFWWKJRfu8MrFoliRJUnEGDMgTMualqmrmpikFsWiWJElScYYMqV/RfPzxDZNnLiyaJUmSVJw11shzmNu2/W7xXFWVjw8blp9XIItmSZIkFatPH3j+eRg48Ns7Ag4cmI830MYm8+KOgJIkSVKJOwJKkiRJC8iiWZIkSaqDRbMkSZJUB4tmSZIkqQ4WzZIkSVIdLJolSZKkOlg0S5IkSXWwaJYkSZLq0Cg2N4mICcC4At56GeDjAt5X8+bnUnn8TCqTn0vl8TOpTH4ulafIz2SVlFLn2Q82iqK5KBExek47wqhYfi6Vx8+kMvm5VB4/k8rk51J5KvEzsT1DkiRJqoNFsyRJklQHi+Z5u7joAJojP5fK42dSmfxcKo+fSWXyc6k8FfeZ2NMsSZIk1cGVZkmSJKkOFs1zEBGXR8RHEfFi0VmURUSXiHggIl6OiJci4tiiMwkiYvGIeCoinit9Lr8sOpOyiGgZEc9ExB1FZ1EWEW9HxAsR8WxEjC46jyAiOkbEsIh4NSJeiYgtis7U3EXEWqX/j9TePo+I44rOBbZnzFFE9AQmA1enlNYtOo8gIlYAVkgpjYmI9sDTwA9TSi8XHK1Zi4gA2qWUJkdEFfAocGxK6cmCozV7EXECUA10SCntWnQe5aIZqE4pOQ+4QkTEVcAjKaVLI6I10DalNKnoXMoioiXwX2CzlFIR+3V8iyvNc5BSehj4tOgcmiml9H5KaUzp/hfAK8BKxaZSyiaXHlaVbv4mXrCIWBnYBbi06CxSpYqIJYGewGUAKaVvLJgrTi9gbCUUzGDRrEYoIlYFNgRGFZtE8L82gGeBj4B7U0p+LsX7I3AiMKPoIPqWBIyMiKcjYmDRYcRqwATgilIr06UR0a7oUPqWfYHriw5Ry6JZjUpELAEMB45LKX1edB5BSml6SmkDYGVg04iwpalAEbEr8FFK6emis+g7tk4pbQT0AY4qtQKqOK2AjYCLUkobAl8CJxcbSbVK7TK7AzcVnaWWRbMajVLP7HDg2pTSiKLz6NtK/6z5ANC76CzN3FbA7qX+2X8AO0TENcVGEkBK6b+lrx8BNwObFpuo2XsXeHeWfx0bRi6iVRn6AGNSSh8WHaSWRbMahdIFZ5cBr6SU/q/oPMoionNEdCzdbwPsBLxabKrmLaV0Skpp5ZTSquR/2vxXSmlAwbGavYhoV7qImVILwA8AJzQVKKX0AfBORKxVOtQL8OLyyrEfFdSaAfmfJjSbiLge2A5YJiLeBX6RUrqs2FTN3lbAAcALpf5ZgFNTSncVmEmwAnBV6QrnFsCNKSVHnEnftRxwc/79n1bAdSmle4qNJOAY4NpSK8CbwCEF5xH/+8VyJ+DI/9/e/bzoFMVxHH9/KBSysbARC0k2ZIGIlB8xLKz8SKT8AWIpa3+AZOMPICLJQsmGxlhIFqKUnykNJQuk/PhazJ166JkuY8o1vV91e849zznn3rP7dO/pnn99L7385JwkSZLUwuUZkiRJUgtDsyRJktTC0CxJkiS1MDRLkiRJLQzNkiRJUgtDsyR1TJIPPeWBJI+TLOipW5jkVZIpv/S7n2TVGGMuTOJ3gSVpnAzNktRRSTYCJ4FtVfVitL6qngMvgXU9bZcAs3t2N5MkTSBDsyR1UJL1wBlgR1U96dPkLCM7/o3aA5xrnijfSnKvOdb0GftgklM951eTbGjKW5IMNX0vJJk1oROTpP+UoVmSumc6cBnYWVVjbUt+HtiZZHRn192MBOk3wOaqWtHUnfzdiyaZCxwHNjX97wJHxzcFSZpc3EZbkrrnC3AbOAQc7tegqoabNcobkwwDX6vqQZI5wKkky4FvwOI/uO5qYCkw2Gz3PA0YGv80JGnyMDRLUvd8B3YBN5Icq6oTY7QbXaIx3JQBjjTnyxh5m/i5T7+v/PymcUbzG+B6Ve39u9uXpMnH5RmS1EFV9QnYDuxLcmiMZpeAAUaWYZxr6uYAr6vqO7AfmNqn33NgeZIpSeYDK5v6O8DaJIsAksxM8idPqiVp0vJJsyR1VFW9S7IVuJnkbVVd+eX/90mGgHlV9bSpPg1cTHIAuAZ87DP0IPAMeAg8Au41471NchA4m2R60/Y48HiCpyZJ/51U1b++B0mSJKnTXJ4hSZIktTA0S5IkSS0MzZIkSVILQ7MkSZLUwtAsSZIktTA0S5IkSS0MzZIkSVILQ7MkSZLU4gdWaqKiBlY/WgAAAABJRU5ErkJggg==)"
      ],
      "metadata": {
        "id": "KDT9cRv4eOou"
      }
    },
    {
      "cell_type": "markdown",
      "source": [
        "### **Accuarcy in LDA is slightly higher than in PCA**\n"
      ],
      "metadata": {
        "id": "le1N7Y5DlInG"
      }
    },
    {
      "cell_type": "markdown",
      "source": [
        "# **Compare vs Non-Face Images**\n",
        "\n",
        "---\n",
        "\n",
        "\n",
        "\n",
        "---\n",
        "\n"
      ],
      "metadata": {
        "id": "aHAcHOILllHB"
      }
    },
    {
      "cell_type": "markdown",
      "source": [
        "## **PCA** \n",
        "\n",
        "---\n",
        "\n",
        "\n",
        "\n",
        "---\n",
        "\n"
      ],
      "metadata": {
        "id": "OTq3V1_XL15Z"
      }
    },
    {
      "cell_type": "markdown",
      "source": [
        "Generating the Data Matrix and the Label vector \n",
        "\n",
        "---\n",
        "\n"
      ],
      "metadata": {
        "id": "ECsHi01utJeK"
      }
    },
    {
      "cell_type": "code",
      "source": [
        "import cv2\n",
        "import numpy as np\n",
        "\n",
        "data1 = []\n",
        "labels1=[]\n",
        "for i in range(1, 41):  # accessing folders of directory\n",
        "        for k in range(1, 11):  # accessing photos in each folder\n",
        "            img = cv2.imread('/content/gdrive/MyDrive/Dataset'+'/s'+str(i)+\"/\"+str(k)+'.pgm', 0)\n",
        "            img_col = np.array(img, dtype='float64').flatten()  # converting image to 1 dimentional image\n",
        "            data1.append(img_col)\n",
        "            labels1.append(1)\n",
        "dim = (92,112)\n",
        "for i in range(1,401):\n",
        "  img = cv2.imread('/content/gdrive/MyDrive/nonfaces'+'/n'+str(i)+'.jpg', 0)\n",
        "  resized = cv2.resize(img,dim,interpolation = cv2.INTER_AREA)\n",
        "  img_col = np.array(resized, dtype='float64').flatten()  # converting image to 1 dimentional image\n",
        "  data1.append(img_col)\n",
        "  labels1.append(0)\n",
        "\n",
        "data1 = np.array(data1)"
      ],
      "metadata": {
        "id": "4F2S2Abkp3eG"
      },
      "execution_count": null,
      "outputs": []
    },
    {
      "cell_type": "markdown",
      "source": [
        "Calculating the eigen values & eigen vectors in the PCA method \n",
        "\n",
        "---\n",
        "\n"
      ],
      "metadata": {
        "id": "Gy0gbG0z7B0O"
      }
    },
    {
      "cell_type": "code",
      "source": [
        "train1,train_labels1,test1,test_labels1=split(data1,labels1,2)\n",
        "covariance1=cov(train1)\n",
        "eigen_value1,eigen_vector1=np.linalg.eigh(covariance1)"
      ],
      "metadata": {
        "id": "tLxblT4K5NGA"
      },
      "execution_count": null,
      "outputs": []
    },
    {
      "cell_type": "markdown",
      "source": [
        "Calculating the explained variance and printing them\n",
        "\n",
        "---\n",
        "\n"
      ],
      "metadata": {
        "id": "LHlz-YEoLm7b"
      }
    },
    {
      "cell_type": "code",
      "source": [
        "explained_variance1=exp_var(eigen_value1)\n",
        "print(explained_variance1)"
      ],
      "metadata": {
        "colab": {
          "base_uri": "https://localhost:8080/"
        },
        "id": "Gr7D3JFA7d-U",
        "outputId": "b902aaf5-d40d-41a8-b88f-fa1926e028ff"
      },
      "execution_count": null,
      "outputs": [
        {
          "output_type": "stream",
          "name": "stdout",
          "text": [
            "[47, 71, 111, 185]\n"
          ]
        }
      ]
    },
    {
      "cell_type": "markdown",
      "source": [
        "Calculating the reduced basis (Projection Matrix) for every given alpha\n",
        "\n",
        "\n",
        "---\n",
        "\n"
      ],
      "metadata": {
        "id": "qqrke83JMMyt"
      }
    },
    {
      "cell_type": "code",
      "source": [
        "alpha1nf=reduced_basis(eigen_vector1,explained_variance1,0)\n",
        "alpha2nf=reduced_basis(eigen_vector1,explained_variance1,1)\n",
        "alpha3nf=reduced_basis(eigen_vector1,explained_variance1,2)\n",
        "alpha4nf=reduced_basis(eigen_vector1,explained_variance1,3)"
      ],
      "metadata": {
        "id": "su-GnPPY8U4g"
      },
      "execution_count": null,
      "outputs": []
    },
    {
      "cell_type": "markdown",
      "source": [
        "Projecting all the training sets using the projection matrix\n",
        "\n",
        "---\n",
        "\n"
      ],
      "metadata": {
        "id": "2xM0lGHAMX7V"
      }
    },
    {
      "cell_type": "code",
      "source": [
        "reduced_train1nf=np.matmul(train1,alpha1nf.transpose())\n",
        "reduced_train2nf=np.matmul(train1,alpha2nf.transpose())\n",
        "reduced_train3nf=np.matmul(train1,alpha3nf.transpose())\n",
        "reduced_train4nf=np.matmul(train1,alpha4nf.transpose())"
      ],
      "metadata": {
        "id": "SYU510qK8w6v"
      },
      "execution_count": null,
      "outputs": []
    },
    {
      "cell_type": "markdown",
      "source": [
        "Projecting all the test sets using the projection matrix\n",
        "\n",
        "---\n",
        "\n"
      ],
      "metadata": {
        "id": "Zek8NTIPMZzA"
      }
    },
    {
      "cell_type": "code",
      "source": [
        "reduced_test1nf=np.matmul(test1,alpha1nf.transpose())\n",
        "reduced_test2nf=np.matmul(test1,alpha2nf.transpose())\n",
        "reduced_test3nf=np.matmul(test1,alpha3nf.transpose())\n",
        "reduced_test4nf=np.matmul(test1,alpha4nf.transpose())"
      ],
      "metadata": {
        "id": "W0nBeHKC9RvT"
      },
      "execution_count": null,
      "outputs": []
    },
    {
      "cell_type": "markdown",
      "source": [
        "Calculating the accuracy of the 4 datasets\n",
        "\n",
        "---\n",
        "\n"
      ],
      "metadata": {
        "id": "V7hqL5bTMi6M"
      }
    },
    {
      "cell_type": "code",
      "source": [
        "acc_alpha1nf=accuracy_calc(reduced_train1nf,reduced_test1nf,train_labels1,test_labels1)\n",
        "acc_alpha2nf=accuracy_calc(reduced_train2nf,reduced_test2nf,train_labels1,test_labels1)\n",
        "acc_alpha3nf=accuracy_calc(reduced_train3nf,reduced_test3nf,train_labels1,test_labels1)\n",
        "acc_alpha4nf=accuracy_calc(reduced_train4nf,reduced_test4nf,train_labels1,test_labels1)"
      ],
      "metadata": {
        "id": "9AyiehuZ9l2S"
      },
      "execution_count": null,
      "outputs": []
    },
    {
      "cell_type": "markdown",
      "source": [
        "Printing the accuracy of all the datasets, every dataset accuracy is calculated in an array\n",
        "\n",
        "---\n",
        "\n"
      ],
      "metadata": {
        "id": "vXE3bmBqMpv-"
      }
    },
    {
      "cell_type": "code",
      "source": [
        "print(acc_alpha1nf)\n",
        "print(acc_alpha2nf)\n",
        "print(acc_alpha3nf)\n",
        "print(acc_alpha4nf)"
      ],
      "metadata": {
        "colab": {
          "base_uri": "https://localhost:8080/"
        },
        "id": "tFw8WXwG-nh3",
        "outputId": "77fa7ff8-bd24-4a19-b3ab-46b87fe04dcb"
      },
      "execution_count": null,
      "outputs": [
        {
          "output_type": "stream",
          "name": "stdout",
          "text": [
            "[99.25, 99.0, 98.75, 98.5]\n",
            "[98.5, 99.0, 98.5, 98.5]\n",
            "[98.5, 97.5, 98.25, 97.25]\n",
            "[98.75, 96.75, 96.75, 96.0]\n"
          ]
        }
      ]
    },
    {
      "cell_type": "markdown",
      "source": [
        "Plotting the results\n",
        "\n",
        "---\n",
        "\n"
      ],
      "metadata": {
        "id": "hL4lAXSHMtQR"
      }
    },
    {
      "cell_type": "code",
      "source": [
        "graph(acc_alpha1nf,acc_alpha2nf,acc_alpha3nf,acc_alpha4nf)"
      ],
      "metadata": {
        "id": "FuwIVdiXB5wA"
      },
      "execution_count": null,
      "outputs": []
    },
    {
      "cell_type": "markdown",
      "source": [
        "![download (1).png](data:image/png;base64,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)"
      ],
      "metadata": {
        "id": "edoO95ClzK4N"
      }
    },
    {
      "cell_type": "markdown",
      "source": [
        "## **LDA**\n",
        "\n",
        "---\n",
        "\n",
        "\n",
        "\n",
        "---\n",
        "\n"
      ],
      "metadata": {
        "id": "77uZzrSsNFGh"
      }
    },
    {
      "cell_type": "markdown",
      "source": [
        "Calculating the mean of every class and overall mean and printing their shape\n",
        "\n",
        "---\n",
        "\n"
      ],
      "metadata": {
        "id": "lG36Z9eiNHFN"
      }
    },
    {
      "cell_type": "code",
      "source": [
        "mean1,overall_mean1=calc_mean(train1,2)\n",
        "print(mean1.shape)\n",
        "print(overall_mean1.shape)"
      ],
      "metadata": {
        "colab": {
          "base_uri": "https://localhost:8080/"
        },
        "id": "_AKItXJYCL3c",
        "outputId": "b270f09b-ded1-463a-fbf8-fb17be4cef38"
      },
      "execution_count": null,
      "outputs": [
        {
          "output_type": "stream",
          "name": "stdout",
          "text": [
            "(2, 10304)\n",
            "(10304,)\n"
          ]
        }
      ]
    },
    {
      "cell_type": "markdown",
      "source": [
        "Calculating the Sb and printing its shape\n",
        "\n",
        "---\n",
        "\n"
      ],
      "metadata": {
        "id": "zEsN8SvnNS4l"
      }
    },
    {
      "cell_type": "code",
      "source": [
        "S_b1=calc_between_class(mean1,overall_mean1,200,2)\n",
        "print (S_b1.shape)"
      ],
      "metadata": {
        "colab": {
          "base_uri": "https://localhost:8080/"
        },
        "id": "4MWUsHvACqNX",
        "outputId": "9e8fff0c-83ed-435e-84a9-d3777610dab5"
      },
      "execution_count": null,
      "outputs": [
        {
          "output_type": "stream",
          "name": "stdout",
          "text": [
            "(10304, 10304)\n"
          ]
        }
      ]
    },
    {
      "cell_type": "markdown",
      "source": [
        "Calculating S and printing its shape\n",
        "\n",
        "---\n",
        "\n"
      ],
      "metadata": {
        "id": "5VGAIBiCNdTw"
      }
    },
    {
      "cell_type": "code",
      "source": [
        "S1=calc_s(2,train1,mean1)\n",
        "print(S1.shape)"
      ],
      "metadata": {
        "colab": {
          "base_uri": "https://localhost:8080/"
        },
        "id": "Lv9x-47GDEOQ",
        "outputId": "05a7cb76-c854-4ed3-f48b-44ac16bd3566"
      },
      "execution_count": null,
      "outputs": [
        {
          "output_type": "stream",
          "name": "stdout",
          "text": [
            "(10304, 10304)\n"
          ]
        }
      ]
    },
    {
      "cell_type": "markdown",
      "source": [
        "Calculating S inverse\n",
        "\n",
        "---\n",
        "\n"
      ],
      "metadata": {
        "id": "ueIH2OOeNzqJ"
      }
    },
    {
      "cell_type": "code",
      "source": [
        "s_11=np.linalg.inv(S1)"
      ],
      "metadata": {
        "id": "PgcAeqS8C40D"
      },
      "execution_count": null,
      "outputs": []
    },
    {
      "cell_type": "markdown",
      "source": [
        "Calculating dot product of S inverse and Sb\n",
        "\n",
        "---\n",
        "\n"
      ],
      "metadata": {
        "id": "wPSqG4GjN1Z0"
      }
    },
    {
      "cell_type": "code",
      "source": [
        "result1=np.dot(s_11,S_b1)"
      ],
      "metadata": {
        "id": "IoMb8vSeDPlI"
      },
      "execution_count": null,
      "outputs": []
    },
    {
      "cell_type": "markdown",
      "source": [
        "Calculating eigen values and eigen vectors\n",
        "\n",
        "---\n",
        "\n"
      ],
      "metadata": {
        "id": "5-c2GCB2N9YF"
      }
    },
    {
      "cell_type": "code",
      "source": [
        "eigen_value1,eigen_vector1=np.linalg.eigh(result1)"
      ],
      "metadata": {
        "id": "YckSFATFDorP"
      },
      "execution_count": null,
      "outputs": []
    },
    {
      "cell_type": "markdown",
      "source": [
        "Taking the 20 dominant eigenvectors, calculating the projection matrix and printing its shape\n",
        "---\n",
        "\n"
      ],
      "metadata": {
        "id": "8g9A-9yROSQM"
      }
    },
    {
      "cell_type": "code",
      "source": [
        "LDA_max_bias=[20]\n",
        "lda_proj1=reduced_basis(eigen_vector1,LDA_max_bias,0)\n",
        "print(lda_proj1.shape)"
      ],
      "metadata": {
        "id": "lwTY6YGXDv0U",
        "colab": {
          "base_uri": "https://localhost:8080/"
        },
        "outputId": "a601e660-07e8-4015-da05-3cfbdda6a58b"
      },
      "execution_count": null,
      "outputs": [
        {
          "output_type": "stream",
          "name": "stdout",
          "text": [
            "(20, 10304)\n"
          ]
        }
      ]
    },
    {
      "cell_type": "markdown",
      "source": [
        "Projecting the train & test datasets using the projection matrix\n",
        "\n",
        "---\n",
        "\n"
      ],
      "metadata": {
        "id": "3n_qZDrGO0Ko"
      }
    },
    {
      "cell_type": "code",
      "source": [
        "reduced_train1=np.matmul(train1,lda_proj1.transpose())\n",
        "reduced_test1=np.matmul(test1,lda_proj1.transpose())"
      ],
      "metadata": {
        "id": "4GBgi-QAEI2d"
      },
      "execution_count": null,
      "outputs": []
    },
    {
      "cell_type": "markdown",
      "source": [
        "Calculating the accuracy of the LDA function \n",
        "\n",
        "---\n",
        "\n"
      ],
      "metadata": {
        "id": "wG0pxelXPC3n"
      }
    },
    {
      "cell_type": "code",
      "source": [
        "acc_lda1=accuracy_calc(reduced_train1,reduced_test1,train_labels1,test_labels1)\n",
        "print(acc_lda1)"
      ],
      "metadata": {
        "id": "LpqK0LSqEfCy",
        "colab": {
          "base_uri": "https://localhost:8080/"
        },
        "outputId": "0a6df3cc-e941-406b-fcc6-4b51194ca7ac"
      },
      "execution_count": null,
      "outputs": [
        {
          "output_type": "stream",
          "name": "stdout",
          "text": [
            "[90.0, 89.25, 90.5, 90.5]\n"
          ]
        }
      ]
    },
    {
      "cell_type": "markdown",
      "source": [
        "Plotting the results\n",
        "\n",
        "---\n",
        "\n"
      ],
      "metadata": {
        "id": "yDnAVZuvPPLQ"
      }
    },
    {
      "cell_type": "code",
      "source": [
        "plot_lda(acc_lda1)"
      ],
      "metadata": {
        "id": "q7YMFxGsExcA"
      },
      "execution_count": null,
      "outputs": []
    },
    {
      "cell_type": "markdown",
      "source": [
        "![download.png](data:image/png;base64,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)"
      ],
      "metadata": {
        "id": "ybxEBvcLy5G3"
      }
    },
    {
      "cell_type": "markdown",
      "source": [
        "Graphs below represents accuracy for PCA & LDA when datasets consists of 80 face images & 80 non-face images\n",
        "\n",
        "---\n",
        "\n"
      ],
      "metadata": {
        "id": "q8OjED_pzmvG"
      }
    },
    {
      "cell_type": "markdown",
      "source": [
        "![5newnew.png](data:image/png;base64,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)"
      ],
      "metadata": {
        "id": "jKwZftG9zgdk"
      }
    },
    {
      "cell_type": "markdown",
      "source": [
        "![5.png](data:image/png;base64,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)"
      ],
      "metadata": {
        "id": "EQ8gWVrMzbUf"
      }
    }
  ],
  "metadata": {
    "colab": {
      "collapsed_sections": [],
      "name": "FaceRecognition.ipynb",
      "provenance": []
    },
    "kernelspec": {
      "display_name": "Python 3",
      "name": "python3"
    },
    "language_info": {
      "name": "python"
    }
  },
  "nbformat": 4,
  "nbformat_minor": 0
}